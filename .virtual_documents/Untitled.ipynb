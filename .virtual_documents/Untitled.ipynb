





























import sklearn 
import pandas as pd 
import numpy as np 
import statsmodels as sm 
import matplotlib.pyplot as plt








# here's our data 
df = pd.DataFrame({'weight_mg' : np.round(x), 'length_cm' : np.round(y, 2)})
df.head()


# Generate random data
np.random.seed(0)  # For reproducibility
x = np.random.uniform(100, 200, 50)
y = np.random.uniform(0.5, 1, 50) + (x - 1) * 0.01

# Plotting the points
plt.scatter(x, y)
plt.title("Earthworm Data")
plt.xlabel("Earthworm weight in mg")
plt.ylabel("Earthworm length in cm")
plt.show()









