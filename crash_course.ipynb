{
 "cells": [
  {
   "cell_type": "markdown",
   "id": "568e138b-7ab8-410e-8466-73d9359e0101",
   "metadata": {
    "jp-MarkdownHeadingCollapsed": true
   },
   "source": [
    "# Welcome to the course!\n",
    "\n",
    "This is meant to be a very broad overview of machine learning topics, hopefully enough that you can hold a conversation about the topics we cover, but probably not enough to land a job as an ML engineer. There will be resources at the end if you want to know more :) "
   ]
  },
  {
   "cell_type": "markdown",
   "id": "6767cb8b-0acc-464c-872e-05e4b3d327d7",
   "metadata": {},
   "source": [
    "\n",
    "## Schedule \n",
    "\n",
    "1. General Overview\n",
    "2. Fitting Models\n",
    "3. Validating Models\n",
    "4. Interpreting Results\n",
    "5. Wrapping Up\n",
    "\n",
    "## Pre-reqs\n",
    "1. Watch this Essence of Linear Algebra playlist: https://www.youtube.com/playlist?list=PLZHQObOWTQDPD3MizzM2xVFitgF8hE_ab\n",
    "2. Working intermediate Python knowledge (but if you're rusty that's okay, I am too)\n",
    "   - in particular, basic understanding of numpy, pandas, scipy, statsmodels, scikitlearn\n",
    "   - if you aren't familiar with some of these, that's okay too, just look over their documentation"
   ]
  },
  {
   "cell_type": "markdown",
   "id": "749c926d-71c0-4df2-af8b-ba27d0c09bf4",
   "metadata": {},
   "source": [
    "# Math Interlude "
   ]
  },
  {
   "cell_type": "markdown",
   "id": "e241f9b7-2308-4ab5-9ae6-5b0828d2db8a",
   "metadata": {},
   "source": [
    "Math can be scary, believe me, I understand. But fundamentally, machine learning is using some fancy-looking math to make predictions about things we're interested in. If you don't have a formal math background, that's okay too, but I want to get some concepts reviewed so you can make sense of formulas and notation you see in other resources."
   ]
  },
  {
   "cell_type": "markdown",
   "id": "bf4466e6-6d47-42c7-a8d1-2742f869e3cb",
   "metadata": {},
   "source": [
    "notation"
   ]
  },
  {
   "cell_type": "markdown",
   "id": "22782c3c-75f5-42fa-9719-df2fce2bc1a4",
   "metadata": {},
   "source": [
    "\\begin{pmatrix}\n",
    "x_{11} & x_{12} \\\\\n",
    "x_{21} & x_{22}\n",
    "\\end{pmatrix}"
   ]
  },
  {
   "cell_type": "markdown",
   "id": "b1846b7e-a268-4231-a684-19f076b7a03c",
   "metadata": {},
   "source": [
    "Also note the subscripts, those are used pretty frequently to denote \"different\" objects of the same type. So we might want to compare means (averages) between two different groups of people. Instead of saying \"mean of people x vs mean of people y\" we usually just write this: \n",
    "\n",
    "$\\mu_1$ vs. $\\mu_2$\n",
    "\n",
    "This is read as \"mu 1 vs. mu 2\" or \"mu-sub-1 vs. mu-sub-2\"\n",
    "\n",
    "You will also often see a variety of letters used to denote \"arbitrary\" numbers. This sounds insane at first, because, why would we talk about hypothetical numbers? But they're often used to generalize models to an arbitrary number of variables, parameters, whatever. For example, if we want to describe a linear model to someone, and we say \"just use every variable you have\" we can write: fit the model with $x_1, x_2, \\dots x_j$. The $j$ here is just a placeholder value. If we have &j = 5& variables, we would write $x_1, x_2, x_3, x_4, x_5$. Some common letters for this type of mathematical writing are $n$, $m$, $j$, $k$, and many others, but helpful to stick to those because they're convention. "
   ]
  },
  {
   "cell_type": "markdown",
   "id": "54d2819f-7da6-45b4-9d7c-d4103400ebb9",
   "metadata": {},
   "source": [
    "If you get more into ML, it will be essential to either take a linear algebra course or just read a textbook, but just being aware of the concepts is enough for now :) "
   ]
  },
  {
   "cell_type": "markdown",
   "id": "90b4c6fc-139d-4543-b74e-cda46033b8ae",
   "metadata": {},
   "source": [
    "# General Overview"
   ]
  },
  {
   "cell_type": "markdown",
   "id": "b63a2f92-11ad-4f90-a92a-e8dad8f3f8fd",
   "metadata": {},
   "source": [
    "What is machine learning? \n",
    "\n",
    "*\"a field of study in artificial intelligence concerned with the development and study of statistical algorithms that can learn from data and generalize to unseen data, and thus perform tasks without explicit instructions\"* (wikipedia)\n",
    "\n",
    "There are 3 main types: \n",
    "\n",
    "1. Supervised learning\n",
    "2. Unsupervised learning\n",
    "3. Reinforcement learning\n",
    "\n",
    "There are plenty of other types and subfields, but these three categories cover most of it. Almost everything uses some blend of math, statistics, probability, and programming to create a machine learning model. \n",
    "\n",
    "I am a statistician by training, and we really like linear models, so some of this may be slightly more statistics-focused, and I will definitely use statistics-based notation. There are usually many different ways to write mathematical formulas depending on the field, even though they share similar ideas."
   ]
  },
  {
   "cell_type": "code",
   "execution_count": 5,
   "id": "21f2dfef-b370-41cf-9193-c8a34596e4a2",
   "metadata": {},
   "outputs": [],
   "source": [
    "import sklearn \n",
    "import pandas as pd \n",
    "import numpy as np \n",
    "import statsmodels as sm \n",
    "import matplotlib.pyplot as plt"
   ]
  },
  {
   "cell_type": "markdown",
   "id": "45d41b22-7ab0-4b50-bf49-1b9ee8d4724c",
   "metadata": {},
   "source": [
    "## Supervised learning: a basic example\n",
    "\n",
    "This is \"supervised\" in the sense that we have a known outcome variable, often denoted $Y$. The most basic type of supervised learning is a linear model, you may have seen these before. In two dimensions, this is just $y = mx + b$ where: \n",
    "\n",
    "\\begin{aligned}\n",
    "y &= \\text{outcome variable} \\\\ \n",
    "m &= \\text{slope} \\\\ \n",
    "x &= \\text{our predictor variable} \\\\ \n",
    "b &= \\text{intercept}\n",
    "\\end{aligned}\n",
    "\n",
    "Note that there are 100 names for $x$ and $y$, here are some of them. x is called a covariate, an independent variable, a predictor variable, or just \"x\". y is called the target variable, the dependent variable, the outcome variable, \"variable of interest\", \"endpoint\" (in clinical trials), or just \"y\". The b's or betas are almost always called coefficients or betas, though in other ML models they can be called parameters or weights. But trust me, it's kind of arbitrary. "
   ]
  },
  {
   "cell_type": "markdown",
   "id": "90b0e32c-583e-404d-9a7d-8878d5ae19cd",
   "metadata": {},
   "source": [
    "Say you, a normal person, go out and dig up 50 earthworms in your neighborhood, weigh them and measure them, and put them back in the ground. This is your data: "
   ]
  },
  {
   "cell_type": "code",
   "execution_count": 41,
   "id": "5bc54edf-c519-4e92-aa71-3f8587140a20",
   "metadata": {},
   "outputs": [
    {
     "data": {
      "text/html": [
       "<div>\n",
       "<style scoped>\n",
       "    .dataframe tbody tr th:only-of-type {\n",
       "        vertical-align: middle;\n",
       "    }\n",
       "\n",
       "    .dataframe tbody tr th {\n",
       "        vertical-align: top;\n",
       "    }\n",
       "\n",
       "    .dataframe thead th {\n",
       "        text-align: right;\n",
       "    }\n",
       "</style>\n",
       "<table border=\"1\" class=\"dataframe\">\n",
       "  <thead>\n",
       "    <tr style=\"text-align: right;\">\n",
       "      <th></th>\n",
       "      <th>weight_mg</th>\n",
       "      <th>length_cm</th>\n",
       "    </tr>\n",
       "  </thead>\n",
       "  <tbody>\n",
       "    <tr>\n",
       "      <th>0</th>\n",
       "      <td>155.0</td>\n",
       "      <td>2.32</td>\n",
       "    </tr>\n",
       "    <tr>\n",
       "      <th>1</th>\n",
       "      <td>172.0</td>\n",
       "      <td>2.42</td>\n",
       "    </tr>\n",
       "    <tr>\n",
       "      <th>2</th>\n",
       "      <td>160.0</td>\n",
       "      <td>2.59</td>\n",
       "    </tr>\n",
       "    <tr>\n",
       "      <th>3</th>\n",
       "      <td>154.0</td>\n",
       "      <td>2.09</td>\n",
       "    </tr>\n",
       "    <tr>\n",
       "      <th>4</th>\n",
       "      <td>142.0</td>\n",
       "      <td>2.02</td>\n",
       "    </tr>\n",
       "  </tbody>\n",
       "</table>\n",
       "</div>"
      ],
      "text/plain": [
       "   weight_mg  length_cm\n",
       "0      155.0       2.32\n",
       "1      172.0       2.42\n",
       "2      160.0       2.59\n",
       "3      154.0       2.09\n",
       "4      142.0       2.02"
      ]
     },
     "execution_count": 41,
     "metadata": {},
     "output_type": "execute_result"
    }
   ],
   "source": [
    "# here's our data \n",
    "df = pd.DataFrame({'weight_mg' : np.round(x), 'length_cm' : np.round(y, 2)})\n",
    "df.head()"
   ]
  },
  {
   "cell_type": "code",
   "execution_count": 38,
   "id": "b8561bd3-cbca-4abf-b9f1-ff5c17af7c69",
   "metadata": {},
   "outputs": [
    {
     "data": {
      "image/png": "[encoded data removed]",
      "text/plain": [
       "<Figure size 640x480 with 1 Axes>"
      ]
     },
     "metadata": {},
     "output_type": "display_data"
    }
   ],
   "source": [
    "# Generate random data\n",
    "np.random.seed(0)  # For reproducibility\n",
    "x = np.random.uniform(100, 200, 50)\n",
    "y = np.random.uniform(0.5, 1, 50) + (x - 1) * 0.01\n",
    "\n",
    "# Plotting the points\n",
    "plt.scatter(x, y)\n",
    "plt.title(\"Earthworm Data\")\n",
    "plt.xlabel(\"Earthworm weight in mg\")\n",
    "plt.ylabel(\"Earthworm length in cm\")\n",
    "plt.show()"
   ]
  },
  {
   "cell_type": "markdown",
   "id": "feb75f3b-dec9-4393-8b00-92119bf4bf9a",
   "metadata": {},
   "source": [
    "If we wanted to write our mathematical formula for fitting a model to this data, we would write: \n",
    "\n",
    "$y_{\\text{length}} = \\beta_0 + \\beta_1 \\cdot x_{\\text{weight}}$ (notice that this is just y = mx + b)! "
   ]
  },
  {
   "cell_type": "markdown",
   "id": "7dfc21e9-f42d-4fe3-822b-a88d847ae819",
   "metadata": {},
   "source": [
    "## Fitting our first model!"
   ]
  },
  {
   "cell_type": "markdown",
   "id": "cb776ae6-4f6a-4f71-862a-4d03eaad036e",
   "metadata": {},
   "source": [
    "Are you ready for the big reveal? When we say \"fitting a model\" or you hear someone say they have a machine learning model, they just have coefficient estimates. That's all it is, that's the whole game. "
   ]
  }
 ],
 "metadata": {
  "kernelspec": {
   "display_name": "Python 3 (ipykernel)",
   "language": "python",
   "name": "python3"
  },
  "language_info": {
   "codemirror_mode": {
    "name": "ipython",
    "version": 3
   },
   "file_extension": ".py",
   "mimetype": "text/x-python",
   "name": "python",
   "nbconvert_exporter": "python",
   "pygments_lexer": "ipython3",
   "version": "3.11.7"
  }
 },
 "nbformat": 4,
 "nbformat_minor": 5
}
